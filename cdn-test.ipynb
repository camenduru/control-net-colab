{
  "cells": [
    {
      "cell_type": "markdown",
      "metadata": {
        "id": "view-in-github"
      },
      "source": [
        "[![Open In Colab](https://colab.research.google.com/assets/colab-badge.svg)](https://colab.research.google.com/github/camenduru/controlnet-colab/blob/main/cdn-test.ipynb)"
      ]
    },
    {
      "cell_type": "code",
      "execution_count": null,
      "metadata": {
        "id": "Z0Uf4z6JUD4r"
      },
      "outputs": [],
      "source": [
        "#https://colab.research.google.com/drive/1VRrDqT6xeETfMsfqYuCGhwdxcC2kLd2P modified\n",
        "\n",
        "!sudo apt-get install aria2\n",
        "\n",
        "!git clone https://github.com/camenduru/ControlNet\n",
        "\n",
        "!aria2c --console-log-level=error -c -x 16 -k 1M -s 16 https://huggingface.co/ckpt/ControlNet/resolve/main/control_sd15_canny.pth -d /content/ControlNet/models -o control_sd15_canny.pth\n",
        "!aria2c --console-log-level=error -c -x 16 -k 1M -s 16 https://huggingface.co/ckpt/ControlNet/resolve/main/control_sd15_depth.pth -d /content/ControlNet/models -o control_sd15_depth.pth\n",
        "!aria2c --console-log-level=error -c -x 16 -k 1M -s 16 https://huggingface.co/ckpt/ControlNet/resolve/main/control_sd15_hed.pth -d /content/ControlNet/models -o control_sd15_hed.pth\n",
        "!aria2c --console-log-level=error -c -x 16 -k 1M -s 16 https://huggingface.co/ckpt/ControlNet/resolve/main/control_sd15_mlsd.pth -d /content/ControlNet/models -o control_sd15_mlsd.pth\n",
        "!aria2c --console-log-level=error -c -x 16 -k 1M -s 16 https://huggingface.co/ckpt/ControlNet/resolve/main/control_sd15_normal.pth -d /content/ControlNet/models -o control_sd15_normal.pth\n",
        "!aria2c --console-log-level=error -c -x 16 -k 1M -s 16 https://huggingface.co/ckpt/ControlNet/resolve/main/control_sd15_openpose.pth -d /content/ControlNet/models -o control_sd15_openpose.pth\n",
        "!aria2c --console-log-level=error -c -x 16 -k 1M -s 16 https://huggingface.co/ckpt/ControlNet/resolve/main/control_sd15_scribble.pth -d /content/ControlNet/models -o control_sd15_scribble.pth\n",
        "!aria2c --console-log-level=error -c -x 16 -k 1M -s 16 https://huggingface.co/ckpt/ControlNet/resolve/main/control_sd15_seg.pth -d /content/ControlNet/models -o control_sd15_seg.pth\n",
        "!aria2c --console-log-level=error -c -x 16 -k 1M -s 16 https://huggingface.co/ckpt/ControlNet/resolve/main/body_pose_model.pth -d /content/ControlNet/annotator/ckpts -o body_pose_model.pth\n",
        "!aria2c --console-log-level=error -c -x 16 -k 1M -s 16 https://huggingface.co/ckpt/ControlNet/resolve/main/dpt_hybrid-midas-501f0c75.pt -d /content/ControlNet/annotator/ckpts -o dpt_hybrid-midas-501f0c75.pt\n",
        "!aria2c --console-log-level=error -c -x 16 -k 1M -s 16 https://huggingface.co/ckpt/ControlNet/resolve/main/hand_pose_model.pth -d /content/ControlNet/annotator/ckpts -o hand_pose_model.pth\n",
        "!aria2c --console-log-level=error -c -x 16 -k 1M -s 16 https://huggingface.co/ckpt/ControlNet/resolve/main/mlsd_large_512_fp32.pth -d /content/ControlNet/annotator/ckpts -o mlsd_large_512_fp32.pth\n",
        "!aria2c --console-log-level=error -c -x 16 -k 1M -s 16 https://huggingface.co/ckpt/ControlNet/resolve/main/mlsd_tiny_512_fp32.pth -d /content/ControlNet/annotator/ckpts -o mlsd_tiny_512_fp32.pth\n",
        "!aria2c --console-log-level=error -c -x 16 -k 1M -s 16 https://huggingface.co/ckpt/ControlNet/resolve/main/network-bsds500.pth -d /content/ControlNet/annotator/ckpts -o network-bsds500.pth\n",
        "!aria2c --console-log-level=error -c -x 16 -k 1M -s 16 https://huggingface.co/ckpt/ControlNet/resolve/main/upernet_global_small.pth -d /content/ControlNet/annotator/ckpts -o upernet_global_small.pth\n",
        "\n",
        "!sed -i \"s@block.launch(server_name='0.0.0.0')@block.launch(debug=True, share=True)@\" /content/ControlNet/gradio_canny2image.py\n",
        "!sed -i \"s@block.launch(server_name='0.0.0.0')@block.launch(debug=True, share=True)@\" /content/ControlNet/gradio_annotator.py\n",
        "!sed -i \"s@block.launch(server_name='0.0.0.0')@block.launch(debug=True, share=True)@\" /content/ControlNet/gradio_depth2image.py\n",
        "!sed -i \"s@block.launch(server_name='0.0.0.0')@block.launch(debug=True, share=True)@\" /content/ControlNet/gradio_fake_scribble2image.py\n",
        "!sed -i \"s@block.launch(server_name='0.0.0.0')@block.launch(debug=True, share=True)@\" /content/ControlNet/gradio_hed2image.py\n",
        "!sed -i \"s@block.launch(server_name='0.0.0.0')@block.launch(debug=True, share=True)@\" /content/ControlNet/gradio_hough2image.py\n",
        "!sed -i \"s@block.launch(server_name='0.0.0.0')@block.launch(debug=True, share=True)@\" /content/ControlNet/gradio_normal2image.py\n",
        "!sed -i \"s@block.launch(server_name='0.0.0.0')@block.launch(debug=True, share=True)@\" /content/ControlNet/gradio_pose2image.py\n",
        "!sed -i \"s@block.launch(server_name='0.0.0.0')@block.launch(debug=True, share=True)@\" /content/ControlNet/gradio_scribble2image.py\n",
        "!sed -i \"s@block.launch(server_name='0.0.0.0')@block.launch(debug=True, share=True)@\" /content/ControlNet/gradio_seg2image.py\n",
        "!sed -i \"s@block.launch(server_name='0.0.0.0')@block.launch(debug=True, share=True)@\" /content/ControlNet/gradio_scribble2image_interactive.py\n",
        "\n",
        "!pip install -q gradio==3.16.2 timm==0.6.12 addict==2.4.0 yapf==0.32.0 prettytable==3.6.0 opencv-contrib-python==4.5.5.62 pytorch-lightning==1.9.1 einops==0.3.0 open_clip_torch==2.0.2 omegaconf==2.1.1 transformers==4.19.2"
      ]
    },
    {
      "cell_type": "code",
      "execution_count": null,
      "metadata": {
        "id": "mxvRurrmXc4D"
      },
      "outputs": [],
      "source": [
        "%cd /content/ControlNet\n",
        "gradio_link = \"gradio_annotator.py\" #@param [\"gradio_canny2image.py\", \"gradio_annotator.py\", \"gradio_depth2image.py\", \"gradio_fake_scribble2image.py\", \"gradio_hed2image.py\", \"gradio_hough2image.py\", \"gradio_normal2image.py\", \"gradio_pose2image.py\", \"gradio_scribble2image.py\", \"gradio_scribble2image_interactive.py\", \"gradio_seg2image.py\"]\n",
        "!python {gradio_link}"
      ]
    }
  ],
  "metadata": {
    "accelerator": "GPU",
    "colab": {
      "provenance": []
    },
    "gpuClass": "standard",
    "kernelspec": {
      "display_name": "Python 3",
      "name": "python3"
    },
    "language_info": {
      "name": "python"
    }
  },
  "nbformat": 4,
  "nbformat_minor": 0
}
