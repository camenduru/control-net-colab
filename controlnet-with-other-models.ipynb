{
  "cells": [
    {
      "cell_type": "markdown",
      "metadata": {
        "id": "view-in-github"
      },
      "source": [
        "[![Open In Colab](https://colab.research.google.com/assets/colab-badge.svg)](https://colab.research.google.com/github/camenduru/controlnet-colab/blob/main/controlnet-with-other-models.ipynb)"
      ]
    },
    {
      "cell_type": "code",
      "execution_count": null,
      "metadata": {
        "id": "Z0Uf4z6JUD4r"
      },
      "outputs": [],
      "source": [
        "# https://huggingface.co/spaces/hysts/ControlNet-with-other-models modified\n",
        "%cd /content\n",
        "!git clone --recurse-submodules https://github.com/camenduru/ControlNet-with-other-models\n",
        "!sudo apt-get install aria2\n",
        "!pip install gradio -r /content/ControlNet-with-other-models/requirements.txt"
      ]
    },
    {
      "cell_type": "code",
      "execution_count": null,
      "metadata": {},
      "outputs": [],
      "source": [
        "# https://huggingface.co/lllyasviel/ControlNet/tree/main/models thanks to lllyasviel ❤\n",
        "!aria2c --console-log-level=error -c -x 16 -k 1M -s 16 https://huggingface.co/ckpt/ControlNet/resolve/main/body_pose_model.pth -d /content/ControlNet-with-other-models/ControlNet/annotator/ckpts -o body_pose_model.pth\n",
        "!aria2c --console-log-level=error -c -x 16 -k 1M -s 16 https://huggingface.co/ckpt/ControlNet/resolve/main/dpt_hybrid-midas-501f0c75.pt -d /content/ControlNet-with-other-models/ControlNet/annotator/ckpts -o dpt_hybrid-midas-501f0c75.pt\n",
        "!aria2c --console-log-level=error -c -x 16 -k 1M -s 16 https://huggingface.co/ckpt/ControlNet/resolve/main/hand_pose_model.pth -d /content/ControlNet-with-other-models/ControlNet/annotator/ckpts -o hand_pose_model.pth\n",
        "!aria2c --console-log-level=error -c -x 16 -k 1M -s 16 https://huggingface.co/ckpt/ControlNet/resolve/main/mlsd_large_512_fp32.pth -d /content/ControlNet-with-other-models/ControlNet/annotator/ckpts -o mlsd_large_512_fp32.pth\n",
        "!aria2c --console-log-level=error -c -x 16 -k 1M -s 16 https://huggingface.co/ckpt/ControlNet/resolve/main/mlsd_tiny_512_fp32.pth -d /content/ControlNet-with-other-models/ControlNet/annotator/ckpts -o mlsd_tiny_512_fp32.pth\n",
        "!aria2c --console-log-level=error -c -x 16 -k 1M -s 16 https://huggingface.co/ckpt/ControlNet/resolve/main/network-bsds500.pth -d /content/ControlNet-with-other-models/ControlNet/annotator/ckpts -o network-bsds500.pth\n",
        "!aria2c --console-log-level=error -c -x 16 -k 1M -s 16 https://huggingface.co/ckpt/ControlNet/resolve/main/upernet_global_small.pth -d /content/ControlNet-with-other-models/ControlNet/annotator/ckpts -o upernet_global_small.pth\n",
        "\n",
        "# https://huggingface.co/webui/ControlNet-modules-safetensors/tree/main thanks to ClashSAN ❤\n",
        "!aria2c --console-log-level=error -c -x 16 -s 16 -k 1M https://huggingface.co/webui/ControlNet-modules-safetensors/resolve/main/control_canny-fp16.safetensors -d /content/ControlNet-with-other-models/ControlNet/models -o control_canny-fp16.safetensors\n",
        "!aria2c --console-log-level=error -c -x 16 -s 16 -k 1M https://huggingface.co/webui/ControlNet-modules-safetensors/resolve/main/control_depth-fp16.safetensors -d /content/ControlNet-with-other-models/ControlNet/models -o control_depth-fp16.safetensors\n",
        "!aria2c --console-log-level=error -c -x 16 -s 16 -k 1M https://huggingface.co/webui/ControlNet-modules-safetensors/resolve/main/control_hed-fp16.safetensors -d /content/ControlNet-with-other-models/ControlNet/models -o control_hed-fp16.safetensors\n",
        "!aria2c --console-log-level=error -c -x 16 -s 16 -k 1M https://huggingface.co/webui/ControlNet-modules-safetensors/resolve/main/control_mlsd-fp16.safetensors -d /content/ControlNet-with-other-models/ControlNet/models -o control_mlsd-fp16.safetensors\n",
        "!aria2c --console-log-level=error -c -x 16 -s 16 -k 1M https://huggingface.co/webui/ControlNet-modules-safetensors/resolve/main/control_normal-fp16.safetensors -d /content/ControlNet-with-other-models/ControlNet/models -o control_normal-fp16.safetensors\n",
        "!aria2c --console-log-level=error -c -x 16 -s 16 -k 1M https://huggingface.co/webui/ControlNet-modules-safetensors/resolve/main/control_openpose-fp16.safetensors -d /content/ControlNet-with-other-models/ControlNet/models -o control_openpose-fp16.safetensors\n",
        "!aria2c --console-log-level=error -c -x 16 -s 16 -k 1M https://huggingface.co/webui/ControlNet-modules-safetensors/resolve/main/control_scribble-fp16.safetensors -d /content/ControlNet-with-other-models/ControlNet/models -o control_scribble-fp16.safetensors\n",
        "!aria2c --console-log-level=error -c -x 16 -s 16 -k 1M https://huggingface.co/webui/ControlNet-modules-safetensors/resolve/main/control_seg-fp16.safetensors -d /content/ControlNet-with-other-models/ControlNet/models -o control_seg-fp16.safetensors\n"
      ]
    },
    {
      "cell_type": "code",
      "execution_count": null,
      "metadata": {},
      "outputs": [],
      "source": [
        "!sed -i -e 's/launch()/launch(share=True)/g' /content/ControlNet-with-other-models/app.py\n",
        "\n",
        "!sed -i -e 's|\\.\\/annotator\\/ckpts\\/network-bsds500\\.pth|\\/content\\/ControlNet-with-other-models\\/ControlNet\\/annotator\\/ckpts\\/network-bsds500.pth|g' /content/ControlNet-with-other-models/ControlNet/annotator/hed/__init__.py\n",
        "!sed -i -e 's|annotator\\/ckpts\\/dpt_large-midas-2f21e586\\.pt|\\/content\\/ControlNet-with-other-models\\/ControlNet\\/annotator\\/ckpts\\/dpt_large-midas-2f21e586.pt|g' /content/ControlNet-with-other-models/ControlNet/annotator/midas/api.py\n",
        "!sed -i -e 's|annotator\\/ckpts\\/dpt_hybrid-midas-501f0c75\\.pt|\\/content\\/ControlNet-with-other-models\\/ControlNet\\/annotator\\/ckpts\\/dpt_hybrid-midas-501f0c75.pt|g' /content/ControlNet-with-other-models/ControlNet/annotator/midas/api.py\n",
        "!sed -i -e 's|\\.\\/annotator\\/ckpts/mlsd_large_512_fp32.pth|\\/content\\/ControlNet-with-other-models\\/ControlNet\\/annotator\\/ckpts\\/mlsd_large_512_fp32.pth|g' /content/ControlNet-with-other-models/ControlNet/annotator/mlsd/__init__.py\n",
        "\n",
        "!sed -i -e 's|\\.\\/annotator\\/ckpts\\/body_pose_model\\.pth|\\/content\\/ControlNet-with-other-models\\/ControlNet\\/annotator\\/ckpts/body_pose_model.pth|g' /content/ControlNet-with-other-models/ControlNet/annotator/openpose/__init__.py\n",
        "!sed -i -e 's|\\.\\/annotator\\/ckpts\\/hand_pose_model\\.pth|\\/content\\/ControlNet-with-other-models\\/ControlNet\\/annotator\\/ckpts/hand_pose_model.pth|g' /content/ControlNet-with-other-models/ControlNet/annotator/openpose/__init__.py\n",
        "\n",
        "!sed -i -e 's|annotator\\/ckpts\\/upernet_global_small.pth|\\/content\\/ControlNet-with-other-models\\/ControlNet\\/annotator\\/ckpts\\/upernet_global_small.pth|g' /content/ControlNet-with-other-models/ControlNet/annotator/uniformer/__init__.py\n",
        "!sed -i -e 's|annotator\\/uniformer\\/exp\\/upernet_global_small\\/config\\.py|\\/content\\/ControlNet-with-other-models\\/ControlNet\\/annotator\\/uniformer\\/exp\\/upernet_global_small\\/config.py|g' /content/ControlNet-with-other-models/ControlNet/annotator/uniformer/__init__.py"
      ]
    }
  ],
  "metadata": {
    "accelerator": "GPU",
    "colab": {
      "provenance": []
    },
    "gpuClass": "standard",
    "kernelspec": {
      "display_name": "Python 3",
      "name": "python3"
    },
    "language_info": {
      "name": "python"
    }
  },
  "nbformat": 4,
  "nbformat_minor": 0
}
